{
 "cells": [
  {
   "cell_type": "code",
   "execution_count": null,
   "metadata": {},
   "outputs": [],
   "source": [
    "# Data structures\n",
    "import struct"
   ]
  },
  {
   "cell_type": "markdown",
   "metadata": {},
   "source": [
    "## Stevens Scales of Measurement\n",
    "\n",
    "Stevens, S.S. On the *Theory of Scales of Measurement*.\\\n",
    "Science 103, no. 2684 (1946): 677–80.\\\n",
    "https://www.jstor.org/stable/1671815\n",
    "\n",
    "Four scales of measurement in 1946.\\\n",
    "Classify data based on their mathematical properties.\n",
    "\n",
    "1. **Nominal** - Categorizes data without any order (e.g., gender, blood type).\n",
    "2. **Ordinal** – Ranks data but without consistent intervals (e.g., survey ratings, race positions).\n",
    "3. **Interval** – Measures ordered data with equal intervals but no true zero (e.g., temperature in Celsius, IQ scores).\n",
    "4. **Ratio** – Has ordered data, equal intervals, and a true zero (e.g., weight, height, age, income)."
   ]
  },
  {
   "cell_type": "markdown",
   "metadata": {},
   "source": [
    "## Types in Python\n",
    "\n",
    "https://docs.python.org/3/library/stdtypes.html\n",
    "\n",
    "1. Numeric\n",
    "\n",
    "* `int`(e.g., 42)\n",
    "* `float` (e.g., 3.14)\n",
    "* `complex` (e.g., 2 + 3j)\n",
    "\n",
    "2. Boolean/Binary\n",
    "\n",
    "* `bool` (e.g., True, False)\n",
    "* `bytes` (e.g., b'hello')\n",
    "* `bytearray` (mutable version of bytes)\n",
    "* `memoryview` (view over binary data)\n",
    "\n",
    "3. Sequence\n",
    "\n",
    "* `str` (e.g., \"hello\")\n",
    "* `list` (e.g., [1, 2, 3])\n",
    "* `tuple` (e.g., (1, 2, 3))\n",
    "\n",
    "4. Other \n",
    "\n",
    "* `set` (e.g., {1, 2, 3})\n",
    "* `frozenset` (immutable version of set)\n",
    "* `dict` (e.g., {\"key\": \"value\"})"
   ]
  },
  {
   "cell_type": "markdown",
   "metadata": {},
   "source": [
    "## Binary Integers\n",
    "\n",
    "You can see the **binary representation** of an integer in Python using the `bin()` function."
   ]
  },
  {
   "cell_type": "code",
   "execution_count": 1,
   "metadata": {},
   "outputs": [
    {
     "data": {
      "text/plain": [
       "65"
      ]
     },
     "execution_count": 1,
     "metadata": {},
     "output_type": "execute_result"
    }
   ],
   "source": [
    "# Example integer - literal written in decimal.\n",
    "num = 65\n",
    "\n",
    "# Show.\n",
    "num"
   ]
  },
  {
   "cell_type": "code",
   "execution_count": 2,
   "metadata": {},
   "outputs": [
    {
     "data": {
      "text/plain": [
       "'0b1000001'"
      ]
     },
     "execution_count": 2,
     "metadata": {},
     "output_type": "execute_result"
    }
   ],
   "source": [
    "# In binary.\n",
    "bin(num)"
   ]
  },
  {
   "cell_type": "code",
   "execution_count": 3,
   "metadata": {},
   "outputs": [
    {
     "data": {
      "text/plain": [
       "'1000001'"
      ]
     },
     "execution_count": 3,
     "metadata": {},
     "output_type": "execute_result"
    }
   ],
   "source": [
    "# Remove 0b.\n",
    "bin(num)[2:]"
   ]
  },
  {
   "cell_type": "code",
   "execution_count": 4,
   "metadata": {},
   "outputs": [
    {
     "name": "stdout",
     "output_type": "stream",
     "text": [
      "1000001\n"
     ]
    }
   ],
   "source": [
    "# Use f-strings.\n",
    "# https://realpython.com/python-f-strings/\n",
    "print(f\"{num:b}\")"
   ]
  },
  {
   "cell_type": "code",
   "execution_count": 5,
   "metadata": {},
   "outputs": [
    {
     "name": "stdout",
     "output_type": "stream",
     "text": [
      "65\n"
     ]
    }
   ],
   "source": [
    "# Literal in binary.\n",
    "print(0b1000001)"
   ]
  },
  {
   "cell_type": "code",
   "execution_count": 6,
   "metadata": {},
   "outputs": [
    {
     "name": "stdout",
     "output_type": "stream",
     "text": [
      "-1000001\n"
     ]
    }
   ],
   "source": [
    "# Negative numbers.\n",
    "print(f'{-65:b}')"
   ]
  },
  {
   "cell_type": "markdown",
   "metadata": {},
   "source": [
    "## Binary Strings\n",
    "\n",
    "You can see the **binary representation** of a character in Python by converting it to its Unicode (ASCII) value using `ord()`, then using `bin()`."
   ]
  },
  {
   "cell_type": "code",
   "execution_count": 7,
   "metadata": {},
   "outputs": [
    {
     "data": {
      "text/plain": [
       "'A'"
      ]
     },
     "execution_count": 7,
     "metadata": {},
     "output_type": "execute_result"
    }
   ],
   "source": [
    "# Character A.\n",
    "char = 'A'\n",
    "\n",
    "# Show.\n",
    "char"
   ]
  },
  {
   "cell_type": "code",
   "execution_count": 8,
   "metadata": {},
   "outputs": [
    {
     "data": {
      "text/plain": [
       "65"
      ]
     },
     "execution_count": 8,
     "metadata": {},
     "output_type": "execute_result"
    }
   ],
   "source": [
    "# Ordinal value.\n",
    "ord(char)"
   ]
  },
  {
   "cell_type": "code",
   "execution_count": 9,
   "metadata": {},
   "outputs": [
    {
     "data": {
      "text/plain": [
       "'0b1000001'"
      ]
     },
     "execution_count": 9,
     "metadata": {},
     "output_type": "execute_result"
    }
   ],
   "source": [
    "# Binary.\n",
    "bin(ord(char))"
   ]
  },
  {
   "cell_type": "markdown",
   "metadata": {},
   "source": [
    "## Binary Floats\n",
    "\n",
    "https://docs.python.org/3/library/struct.html\\\n",
    "Python does not have a built-in function like `bin()` for floats.\\\n",
    "You can use the `struct` module to see the **IEEE 754 binary representation** of a float.\\\n",
    "This is quite advanced."
   ]
  },
  {
   "cell_type": "code",
   "execution_count": 10,
   "metadata": {},
   "outputs": [
    {
     "data": {
      "text/plain": [
       "3.14"
      ]
     },
     "execution_count": 10,
     "metadata": {},
     "output_type": "execute_result"
    }
   ],
   "source": [
    "# Float\n",
    "num = 3.14\n",
    "\n",
    "# Show.\n",
    "num"
   ]
  },
  {
   "cell_type": "code",
   "execution_count": 12,
   "metadata": {},
   "outputs": [
    {
     "name": "stdout",
     "output_type": "stream",
     "text": [
      "01000000010010001111010111000011\n"
     ]
    }
   ],
   "source": [
    "# 32-bit representation.\n",
    "import struct\n",
    "\n",
    "num = 3.14  # Example float value\n",
    "binary_representation = ''.join(f\"{b:08b}\" for b in struct.pack('!f', num))\n",
    "print(binary_representation)"
   ]
  },
  {
   "cell_type": "code",
   "execution_count": 13,
   "metadata": {},
   "outputs": [
    {
     "name": "stdout",
     "output_type": "stream",
     "text": [
      "0100000000001001000111101011100001010001111010111000010100011111\n"
     ]
    }
   ],
   "source": [
    "# 64-bit representation.\n",
    "binary_representation_64 = ''.join(f\"{b:08b}\" for b in struct.pack('!d', num))\n",
    "print(binary_representation_64)"
   ]
  },
  {
   "cell_type": "markdown",
   "metadata": {},
   "source": [
    "`struct.pack('!f', num)`\\\n",
    "Converts the float into 4 bytes (32-bit IEEE 754)\n",
    "\n",
    "`truct.pack('!d', num)`\\\n",
    "Converts the float into 8 bytes (64-bit IEEE 754)\n",
    "\n",
    "Each byte is converted to **8-bit binary** using `f\"{b:08b}\"`"
   ]
  },
  {
   "cell_type": "markdown",
   "metadata": {},
   "source": [
    "## Why Types?\n",
    "\n",
    "1. **Memory Efficiency**\\\n",
    "Types define how much memory a value occupies (e.g., `int` vs. `float`).\n",
    "\n",
    "2. **Prevent Errors**\\\n",
    "Type checking catches mistakes early (e.g., adding a string to an integer).\n",
    "\n",
    "3. **Improve Performance**\\\n",
    "Compilers and interpreters optimize code based on known types.\n",
    "\n",
    "4. **Provide Meaningful Operations**\\\n",
    "Types define what operations are valid (e.g., division for `float`, concatenation for `str`).\n",
    "\n",
    "5. **Enhance Code Readability & Maintainability**\\\n",
    "Explicit types make code easier to understand and debug.\n",
    "\n",
    "6. **Enable Better Tooling**\\\n",
    "IDEs, linters, and static analyzers use types for better suggestions and error detection."
   ]
  },
  {
   "cell_type": "markdown",
   "metadata": {},
   "source": [
    "## Operators\n",
    "\n",
    "The `+` operator in Python does something different for different types."
   ]
  },
  {
   "cell_type": "code",
   "execution_count": 14,
   "metadata": {},
   "outputs": [
    {
     "data": {
      "text/plain": [
       "8"
      ]
     },
     "execution_count": 14,
     "metadata": {},
     "output_type": "execute_result"
    }
   ],
   "source": [
    "# Integer.\n",
    "3 + 5"
   ]
  },
  {
   "cell_type": "code",
   "execution_count": 15,
   "metadata": {},
   "outputs": [
    {
     "data": {
      "text/plain": [
       "8.0"
      ]
     },
     "execution_count": 15,
     "metadata": {},
     "output_type": "execute_result"
    }
   ],
   "source": [
    "# Float.\n",
    "3.0 + 5.0"
   ]
  },
  {
   "cell_type": "code",
   "execution_count": 16,
   "metadata": {},
   "outputs": [
    {
     "data": {
      "text/plain": [
       "'35'"
      ]
     },
     "execution_count": 16,
     "metadata": {},
     "output_type": "execute_result"
    }
   ],
   "source": [
    "# String.\n",
    "'3' + '5'"
   ]
  },
  {
   "cell_type": "code",
   "execution_count": 17,
   "metadata": {},
   "outputs": [
    {
     "data": {
      "text/plain": [
       "[3, 5]"
      ]
     },
     "execution_count": 17,
     "metadata": {},
     "output_type": "execute_result"
    }
   ],
   "source": [
    "# List.\n",
    "[3] + [5]"
   ]
  },
  {
   "cell_type": "code",
   "execution_count": 18,
   "metadata": {},
   "outputs": [],
   "source": [
    "# Add an int to a string.\n",
    "# '3' + 5"
   ]
  },
  {
   "cell_type": "code",
   "execution_count": 19,
   "metadata": {},
   "outputs": [
    {
     "data": {
      "text/plain": [
       "'33333'"
      ]
     },
     "execution_count": 19,
     "metadata": {},
     "output_type": "execute_result"
    }
   ],
   "source": [
    "# Multiply an int to a string.\n",
    "'3' * 5"
   ]
  },
  {
   "cell_type": "markdown",
   "metadata": {},
   "source": [
    "## Machine Words\n",
    "\n",
    "* Fixed size based on CPU architecture (e.g., 32-bit, 64-bit).\n",
    "* Can store integers, addresses, or raw data.\n",
    "* Used in low-level operations like memory addressing."
   ]
  },
  {
   "cell_type": "markdown",
   "metadata": {},
   "source": [
    "## End"
   ]
  }
 ],
 "metadata": {
  "kernelspec": {
   "display_name": "Python 3",
   "language": "python",
   "name": "python3"
  },
  "language_info": {
   "codemirror_mode": {
    "name": "ipython",
    "version": 3
   },
   "file_extension": ".py",
   "mimetype": "text/x-python",
   "name": "python",
   "nbconvert_exporter": "python",
   "pygments_lexer": "ipython3",
   "version": "3.12.1"
  }
 },
 "nbformat": 4,
 "nbformat_minor": 2
}
