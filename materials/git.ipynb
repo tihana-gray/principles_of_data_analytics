{
 "cells": [
  {
   "cell_type": "markdown",
   "metadata": {},
   "source": [
    "# Git"
   ]
  },
  {
   "cell_type": "code",
   "execution_count": 1,
   "metadata": {},
   "outputs": [],
   "source": [
    "# No imports."
   ]
  },
  {
   "cell_type": "markdown",
   "metadata": {},
   "source": [
    "## Resources\n",
    "\n",
    "VSCode: Using Git source control in VS Code  \n",
    "https://code.visualstudio.com/docs/sourcecontrol/overview\n",
    "\n",
    "VSCode: Introduction to Git in VS Code  \n",
    "https://code.visualstudio.com/docs/sourcecontrol/intro-to-git\n",
    "\n",
    "Hubspot: An Intro to Git and GitHub for Beginners (Tutorial)  \n",
    "https://product.hubspot.com/blog/git-and-github-tutorial-for-beginners\n",
    "\n",
    "Datacamp: Introduction to GitHub Codespaces  \n",
    "https://www.datacamp.com/tutorial/github-codespaces"
   ]
  },
  {
   "cell_type": "markdown",
   "metadata": {},
   "source": [
    "## About git\n",
    "\n",
    "\n",
    "```mermaid\n",
    "    gitGraph\n",
    "       commit\n",
    "       commit\n",
    "       branch develop\n",
    "       commit\n",
    "       commit\n",
    "       commit\n",
    "       checkout main\n",
    "       commit\n",
    "       commit\n",
    "       merge develop\n",
    "       commit\n",
    "       commit\n",
    "```\n",
    "\n",
    "\n",
    "Git is a piece of software.  \n",
    "You can install it on your computer.  \n",
    "It is called a Version Control System.\n",
    "\n",
    "It manages different versions of files for you.  \n",
    "At some stage you have likely kept several versions of the same file:  \n",
    "`cv.docx`, `cv_final.docx`, `cv_final_final.docx`, `cv_new.docx`  \n",
    "Git helps you avoid situations like this.  \n",
    "There is one caveat: it is designed to mainly work with text files.\n",
    "\n",
    "Git also helps you collaborate with others working on the same files.  \n",
    "You can avoid emailing your friend the latest version of a collaborative document.\n",
    "\n",
    "Git can be difficult to use.  \n",
    "That is mainly because the problems it tries to solve are difficult.  \n",
    "It is opinionated and fairly unintuitive to begin with.\n",
    "\n",
    "Git also comes as a software library called `libgit2`.  \n",
    "This enables applications such as Visual Studio Code to use git internally."
   ]
  },
  {
   "cell_type": "markdown",
   "metadata": {},
   "source": [
    "## About GitHub\n",
    "\n",
    "GitHub is an online hosting platform for projects managed by git.  \n",
    "It is now owned by Microsoft.  \n",
    "GitHub accounts are free, and they offer a lot of free extra functionality.  \n",
    "\n",
    "GitHub acts like a collaborator on your projects.  \n",
    "Thankfully, it is much less annoying than a human collaborator!"
   ]
  },
  {
   "cell_type": "markdown",
   "metadata": {},
   "source": [
    "## Repositories\n",
    "\n",
    "A repository is a folder that is tracked by git.  \n",
    "Suppose you have a folder somewhere in your computer's file system.  \n",
    "You can tell git to start tracking it, which is called *initializing* it.  \n",
    "\n",
    "You can then tell git which files in the folder to track, called *adding* them.  \n",
    "There can also be files in the folder that are not tracked, which is useful.  \n",
    "\n",
    "Then you can tell git to save the current state of the files it is tracking.  \n",
    "We call this making a *commit*.  \n",
    "Without losing any data, you can hop between commits.  "
   ]
  },
  {
   "cell_type": "markdown",
   "metadata": {},
   "source": [
    "## Saved Games Analogy\n",
    "\n",
    "![Doom Load Game Screen](https://raw.githubusercontent.com/ianmcloughlin/images/master/doom_save.png)\n",
    "\n",
    "A good analogy is saving a computer game.  \n",
    "A commit is like a saved game.  \n",
    "\n",
    "You can go back to that saved game at a later date.  \n",
    "You can play on from there, following a different path than you had previously.  \n",
    "In git, different paths are called different *branches*.  \n",
    "\n",
    "Amazingly, git can merge two branches - albeit with a little help from you.  \n",
    "Most games don't let you do that."
   ]
  },
  {
   "cell_type": "markdown",
   "metadata": {},
   "source": [
    "## Cloning\n",
    "\n",
    "These days we don't usually create a folder and then tell git to track it.  \n",
    "Instead, we tell GitHub to create a new repository.  \n",
    "We then tell git to copy the repository from GitHub.  \n",
    "This is called *cloning*.  \n",
    "\n",
    "Note that we then have two copies of the repository, one of which is in GitHub.  \n",
    "In fact, when working with others each collaborator might have their own copy.  \n",
    "Git is *decentralized*, meaning there is no *master* copy of the repository.  \n",
    "Rather, git provides mechanisms for each copy of the repository to be synced.  "
   ]
  },
  {
   "cell_type": "markdown",
   "metadata": {},
   "source": [
    "## Pushing and Pulling\n",
    "\n",
    "Pushing and pulling are the mechanisms by which repository copies are synced.  \n",
    "You push changes you have made to another copy of the repository.  \n",
    "You pull changes made in another copy into your copy.  \n",
    "\n",
    "We shouldn't really say changes here, we should say commits.  \n",
    "You push your (local) commits to other copies.  \n",
    "You pull other (remote) commits into your copy.  \n",
    "\n",
    "Unlike simpler file-syncing software, git will not do any of this automatically.  \n",
    "You have to tell it to push, pull, and everything else.  \n",
    "\n",
    "That's a good thing because git is designed to merge different commits as needed.  \n",
    "We don't want it guessing what we want in that case.  \n",
    "\n",
    "\n"
   ]
  },
  {
   "cell_type": "markdown",
   "metadata": {},
   "source": [
    "## End"
   ]
  }
 ],
 "metadata": {
  "kernelspec": {
   "display_name": "base",
   "language": "python",
   "name": "python3"
  },
  "language_info": {
   "codemirror_mode": {
    "name": "ipython",
    "version": 3
   },
   "file_extension": ".py",
   "mimetype": "text/x-python",
   "name": "python",
   "nbconvert_exporter": "python",
   "pygments_lexer": "ipython3",
   "version": "3.12.2"
  }
 },
 "nbformat": 4,
 "nbformat_minor": 2
}
